{
 "cells": [
  {
   "cell_type": "markdown",
   "id": "33f29dd0-be11-4b7f-81aa-385eb15126c6",
   "metadata": {},
   "source": [
    "## Data Science"
   ]
  },
  {
   "cell_type": "markdown",
   "id": "2546b8c6-9191-4d33-a0ea-478eb6966501",
   "metadata": {
    "tags": []
   },
   "source": [
    "## Introduction\n",
    "\n",
    "In this notebook, we will explore various aspects of data science, including languages, libraries, and tools. We will also demonstrate some basic arithmetic operations and conversions using code.\n",
    "\n"
   ]
  },
  {
   "cell_type": "markdown",
   "id": "e5abd3c8-cb1a-4601-a4f6-6c893ee91c99",
   "metadata": {},
   "source": [
    "## Data Science Languages\n",
    "\n",
    "Here are some popular languages used in data science:\n",
    "- Python\n",
    "- R\n",
    "- SQL (Structured Query Language)\n",
    "- SAS (Statistical Analysis System)\n",
    "- Julia\n",
    "- MATLAB\n",
    "- Scala\n",
    "- Java\n",
    "- C++\n",
    "- Perl\n",
    "- Haskell\n",
    "- Go\n",
    "- Rust\n"
   ]
  },
  {
   "cell_type": "markdown",
   "id": "7284c3cf-c08b-4fe4-883c-8122211e222c",
   "metadata": {},
   "source": [
    "## Data Science Libraries\n",
    "\n",
    "\n",
    "1. **NumPy** - Numerical computing\n",
    "2. **pandas** - Data manipulation and analysis\n",
    "3. **scikit-learn** - Machine learning\n",
    "4. **TensorFlow** - Deep learning\n",
    "5. **Keras** - High-level neural networks API\n",
    "6. **PyTorch** - Deep learning\n",
    "7. **Matplotlib** - Data visualization\n",
    "8. **Seaborn** - Statistical data visualization\n",
    "9. **SciPy** - Scientific and technical computing\n",
    "10. **Statsmodels** - Statistical models and tests\n",
    "11. **NLTK** - Natural language processing\n",
    "12. **spaCy** - Advanced natural language processing\n",
    "13. **Dask** - Parallel computing\n",
    "14. **Plotly** - Interactive visualizations\n",
    "\n",
    "## R Libraries\n",
    "1. **ggplot2** - Data visualization\n",
    "2. **dplyr** - Data manipulation\n",
    "3. **tidyr** - Data tidying\n",
    "4. **shiny** - Interactive web applications\n",
    "5. **caret** - Predictive modeling\n",
    "6. **randomForest** - Random forest algorithm\n",
    "7. **xgboost** - Gradient boosting\n",
    "8. **lubridate** - Date-time manipulation\n",
    "9. **stringr** - String manipulation\n",
    "10. **forecast** - Time series forecasting\n",
    "\n",
    "## SQL Libraries\n",
    "1. **SQLAlchemy** - SQL toolkit and ORM\n",
    "2. **Psycopg2** - PostgreSQL adapter\n",
    "3. **PyMySQL** - MySQL\n",
    "\n"
   ]
  },
  {
   "cell_type": "markdown",
   "id": "792ae734-bbb0-4639-8600-a954a7882e08",
   "metadata": {},
   "source": [
    "## Data Science Tools\n",
    "\n",
    "| Tool          | Description                       |\n",
    "|---------------|-----------------------------------|\n",
    "| Jupyter       | Interactive computing environment |\n",
    "| RStudio       | IDE for R programming              |\n",
    "| GitHub         | Version control and collaboration  |\n",
    "| Tableau       | Data visualization                 |\n",
    "| Excel         | Spreadsheet software               |\n"
   ]
  },
  {
   "cell_type": "markdown",
   "id": "e631a024-5c9d-43d9-8a0b-26bac86a35d2",
   "metadata": {},
   "source": [
    "## Arithmetic Expression Examples\n",
    "\n",
    "In this section, we will demonstrate some basic arithmetic expressions using code cells.\n"
   ]
  },
  {
   "cell_type": "code",
   "execution_count": 2,
   "id": "22be7148-9a4a-49d1-9fec-b7b2e05840fb",
   "metadata": {
    "tags": []
   },
   "outputs": [
    {
     "data": {
      "text/plain": [
       "(50, 15)"
      ]
     },
     "execution_count": 2,
     "metadata": {},
     "output_type": "execute_result"
    }
   ],
   "source": [
    "# Multiplying and Adding Numbers\n",
    "a = 5\n",
    "b = 10\n",
    "\n",
    "# Multiply\n",
    "product = a * b\n",
    "\n",
    "# Add\n",
    "sum_result = a + b\n",
    "\n",
    "product, sum_result\n"
   ]
  },
  {
   "cell_type": "code",
   "execution_count": 3,
   "id": "c527c133-6b2a-43a1-9373-16fb1f3291e4",
   "metadata": {
    "tags": []
   },
   "outputs": [
    {
     "data": {
      "text/plain": [
       "2.0"
      ]
     },
     "execution_count": 3,
     "metadata": {},
     "output_type": "execute_result"
    }
   ],
   "source": [
    "# Convert minutes to hours\n",
    "def minutes_to_hours(minutes):\n",
    "    return minutes / 60\n",
    "\n",
    "minutes = 120\n",
    "hours = minutes_to_hours(minutes)\n",
    "hours\n"
   ]
  },
  {
   "cell_type": "markdown",
   "id": "a723e85c-1877-491f-9160-9ea0ddf11f0c",
   "metadata": {},
   "source": [
    "## Objectives\n",
    "\n",
    "- Understand basic data science concepts\n",
    "- Learn about popular data science languages and libraries\n",
    "- Explore data science tools\n",
    "- Perform basic arithmetic operations and conversions using Python code\n"
   ]
  },
  {
   "cell_type": "markdown",
   "id": "687cd256-faf1-4d6b-8e54-7540fe45d501",
   "metadata": {},
   "source": [
    "## Author\n",
    "\n",
    "This notebook was created by Muhammad Dawood.\n"
   ]
  },
  {
   "cell_type": "code",
   "execution_count": null,
   "id": "5a1e9527-dde1-458f-85db-95dc83a38bd9",
   "metadata": {},
   "outputs": [],
   "source": []
  }
 ],
 "metadata": {
  "kernelspec": {
   "display_name": "Python 3 (ipykernel)",
   "language": "python",
   "name": "python3"
  },
  "language_info": {
   "codemirror_mode": {
    "name": "ipython",
    "version": 3
   },
   "file_extension": ".py",
   "mimetype": "text/x-python",
   "name": "python",
   "nbconvert_exporter": "python",
   "pygments_lexer": "ipython3",
   "version": "3.9.12"
  }
 },
 "nbformat": 4,
 "nbformat_minor": 5
}
